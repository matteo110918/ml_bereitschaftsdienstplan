{
 "cells": [
  {
   "metadata": {},
   "cell_type": "markdown",
   "source": "# Data Understanding",
   "id": "a2257fa73c23e88c"
  },
  {
   "metadata": {
    "ExecuteTime": {
     "end_time": "2024-10-31T08:08:51.418448Z",
     "start_time": "2024-10-31T08:08:38.459671Z"
    }
   },
   "cell_type": "code",
   "source": [
    "import pandas as pd\n",
    "from pandas.plotting import autocorrelation_plot\n",
    "\n",
    "import matplotlib.pyplot as plt\n",
    "import seaborn as sns"
   ],
   "id": "7a3278f369b1ccf2",
   "outputs": [],
   "execution_count": 2
  },
  {
   "metadata": {},
   "cell_type": "markdown",
   "source": "# 1. Daten einlesen und Inspektion",
   "id": "c562d257910987c1"
  },
  {
   "metadata": {
    "ExecuteTime": {
     "end_time": "2024-10-31T08:08:51.475924Z",
     "start_time": "2024-10-31T08:08:51.420465Z"
    }
   },
   "cell_type": "code",
   "source": [
    "# Pfad zur CSV-Datei\n",
    "file_path = '../data/raw/sickness_table.csv'\n",
    "\n",
    "# CSV-Datei einlesen\n",
    "df = pd.read_csv(file_path)"
   ],
   "id": "54d212cdc7939500",
   "outputs": [],
   "execution_count": 3
  },
  {
   "metadata": {
    "ExecuteTime": {
     "end_time": "2024-10-31T08:08:51.580259Z",
     "start_time": "2024-10-31T08:08:51.492104Z"
    }
   },
   "cell_type": "code",
   "source": [
    "# Die ersten Zeilen anzeigen, um einen Überblick über die Daten zu bekommen\n",
    "df"
   ],
   "id": "2103927e11e39f69",
   "outputs": [
    {
     "data": {
      "text/plain": [
       "      Unnamed: 0        date  n_sick   calls  n_duty  n_sby  sby_need  dafted\n",
       "0              0  2016-04-01      73  8154.0    1700     90       4.0     0.0\n",
       "1              1  2016-04-02      64  8526.0    1700     90      70.0     0.0\n",
       "2              2  2016-04-03      68  8088.0    1700     90       0.0     0.0\n",
       "3              3  2016-04-04      71  7044.0    1700     90       0.0     0.0\n",
       "4              4  2016-04-05      63  7236.0    1700     90       0.0     0.0\n",
       "...          ...         ...     ...     ...     ...    ...       ...     ...\n",
       "1147        1147  2019-05-23      86  8544.0    1900     90       0.0     0.0\n",
       "1148        1148  2019-05-24      81  8814.0    1900     90       0.0     0.0\n",
       "1149        1149  2019-05-25      76  9846.0    1900     90     146.0    56.0\n",
       "1150        1150  2019-05-26      83  9882.0    1900     90     160.0    70.0\n",
       "1151        1151  2019-05-27      77  8790.0    1900     90       0.0     0.0\n",
       "\n",
       "[1152 rows x 8 columns]"
      ],
      "text/html": [
       "<div>\n",
       "<style scoped>\n",
       "    .dataframe tbody tr th:only-of-type {\n",
       "        vertical-align: middle;\n",
       "    }\n",
       "\n",
       "    .dataframe tbody tr th {\n",
       "        vertical-align: top;\n",
       "    }\n",
       "\n",
       "    .dataframe thead th {\n",
       "        text-align: right;\n",
       "    }\n",
       "</style>\n",
       "<table border=\"1\" class=\"dataframe\">\n",
       "  <thead>\n",
       "    <tr style=\"text-align: right;\">\n",
       "      <th></th>\n",
       "      <th>Unnamed: 0</th>\n",
       "      <th>date</th>\n",
       "      <th>n_sick</th>\n",
       "      <th>calls</th>\n",
       "      <th>n_duty</th>\n",
       "      <th>n_sby</th>\n",
       "      <th>sby_need</th>\n",
       "      <th>dafted</th>\n",
       "    </tr>\n",
       "  </thead>\n",
       "  <tbody>\n",
       "    <tr>\n",
       "      <th>0</th>\n",
       "      <td>0</td>\n",
       "      <td>2016-04-01</td>\n",
       "      <td>73</td>\n",
       "      <td>8154.0</td>\n",
       "      <td>1700</td>\n",
       "      <td>90</td>\n",
       "      <td>4.0</td>\n",
       "      <td>0.0</td>\n",
       "    </tr>\n",
       "    <tr>\n",
       "      <th>1</th>\n",
       "      <td>1</td>\n",
       "      <td>2016-04-02</td>\n",
       "      <td>64</td>\n",
       "      <td>8526.0</td>\n",
       "      <td>1700</td>\n",
       "      <td>90</td>\n",
       "      <td>70.0</td>\n",
       "      <td>0.0</td>\n",
       "    </tr>\n",
       "    <tr>\n",
       "      <th>2</th>\n",
       "      <td>2</td>\n",
       "      <td>2016-04-03</td>\n",
       "      <td>68</td>\n",
       "      <td>8088.0</td>\n",
       "      <td>1700</td>\n",
       "      <td>90</td>\n",
       "      <td>0.0</td>\n",
       "      <td>0.0</td>\n",
       "    </tr>\n",
       "    <tr>\n",
       "      <th>3</th>\n",
       "      <td>3</td>\n",
       "      <td>2016-04-04</td>\n",
       "      <td>71</td>\n",
       "      <td>7044.0</td>\n",
       "      <td>1700</td>\n",
       "      <td>90</td>\n",
       "      <td>0.0</td>\n",
       "      <td>0.0</td>\n",
       "    </tr>\n",
       "    <tr>\n",
       "      <th>4</th>\n",
       "      <td>4</td>\n",
       "      <td>2016-04-05</td>\n",
       "      <td>63</td>\n",
       "      <td>7236.0</td>\n",
       "      <td>1700</td>\n",
       "      <td>90</td>\n",
       "      <td>0.0</td>\n",
       "      <td>0.0</td>\n",
       "    </tr>\n",
       "    <tr>\n",
       "      <th>...</th>\n",
       "      <td>...</td>\n",
       "      <td>...</td>\n",
       "      <td>...</td>\n",
       "      <td>...</td>\n",
       "      <td>...</td>\n",
       "      <td>...</td>\n",
       "      <td>...</td>\n",
       "      <td>...</td>\n",
       "    </tr>\n",
       "    <tr>\n",
       "      <th>1147</th>\n",
       "      <td>1147</td>\n",
       "      <td>2019-05-23</td>\n",
       "      <td>86</td>\n",
       "      <td>8544.0</td>\n",
       "      <td>1900</td>\n",
       "      <td>90</td>\n",
       "      <td>0.0</td>\n",
       "      <td>0.0</td>\n",
       "    </tr>\n",
       "    <tr>\n",
       "      <th>1148</th>\n",
       "      <td>1148</td>\n",
       "      <td>2019-05-24</td>\n",
       "      <td>81</td>\n",
       "      <td>8814.0</td>\n",
       "      <td>1900</td>\n",
       "      <td>90</td>\n",
       "      <td>0.0</td>\n",
       "      <td>0.0</td>\n",
       "    </tr>\n",
       "    <tr>\n",
       "      <th>1149</th>\n",
       "      <td>1149</td>\n",
       "      <td>2019-05-25</td>\n",
       "      <td>76</td>\n",
       "      <td>9846.0</td>\n",
       "      <td>1900</td>\n",
       "      <td>90</td>\n",
       "      <td>146.0</td>\n",
       "      <td>56.0</td>\n",
       "    </tr>\n",
       "    <tr>\n",
       "      <th>1150</th>\n",
       "      <td>1150</td>\n",
       "      <td>2019-05-26</td>\n",
       "      <td>83</td>\n",
       "      <td>9882.0</td>\n",
       "      <td>1900</td>\n",
       "      <td>90</td>\n",
       "      <td>160.0</td>\n",
       "      <td>70.0</td>\n",
       "    </tr>\n",
       "    <tr>\n",
       "      <th>1151</th>\n",
       "      <td>1151</td>\n",
       "      <td>2019-05-27</td>\n",
       "      <td>77</td>\n",
       "      <td>8790.0</td>\n",
       "      <td>1900</td>\n",
       "      <td>90</td>\n",
       "      <td>0.0</td>\n",
       "      <td>0.0</td>\n",
       "    </tr>\n",
       "  </tbody>\n",
       "</table>\n",
       "<p>1152 rows × 8 columns</p>\n",
       "</div>"
      ]
     },
     "execution_count": 4,
     "metadata": {},
     "output_type": "execute_result"
    }
   ],
   "execution_count": 4
  },
  {
   "metadata": {
    "ExecuteTime": {
     "end_time": "2024-10-31T08:08:51.608147Z",
     "start_time": "2024-10-31T08:08:51.586254Z"
    }
   },
   "cell_type": "code",
   "source": [
    "# Basisinformationen über den Datensatz abrufen\n",
    "print(\"\\nAllgemeine Informationen zum Datensatz:\\n\")\n",
    "df.info()"
   ],
   "id": "1d8cd3bcd2fb533c",
   "outputs": [
    {
     "name": "stdout",
     "output_type": "stream",
     "text": [
      "\n",
      "Allgemeine Informationen zum Datensatz:\n",
      "\n",
      "<class 'pandas.core.frame.DataFrame'>\n",
      "RangeIndex: 1152 entries, 0 to 1151\n",
      "Data columns (total 8 columns):\n",
      " #   Column      Non-Null Count  Dtype  \n",
      "---  ------      --------------  -----  \n",
      " 0   Unnamed: 0  1152 non-null   int64  \n",
      " 1   date        1152 non-null   object \n",
      " 2   n_sick      1152 non-null   int64  \n",
      " 3   calls       1152 non-null   float64\n",
      " 4   n_duty      1152 non-null   int64  \n",
      " 5   n_sby       1152 non-null   int64  \n",
      " 6   sby_need    1152 non-null   float64\n",
      " 7   dafted      1152 non-null   float64\n",
      "dtypes: float64(3), int64(4), object(1)\n",
      "memory usage: 72.1+ KB\n"
     ]
    }
   ],
   "execution_count": 5
  },
  {
   "metadata": {
    "ExecuteTime": {
     "end_time": "2024-10-31T08:08:51.628845Z",
     "start_time": "2024-10-31T08:08:51.615913Z"
    }
   },
   "cell_type": "code",
   "source": [
    "# Fehlende Werte prüfen\n",
    "print(\"\\nAnzahl fehlender Werte je Spalte:\\n\")\n",
    "df.isnull().sum()"
   ],
   "id": "3c628fdd706e54a0",
   "outputs": [
    {
     "name": "stdout",
     "output_type": "stream",
     "text": [
      "\n",
      "Anzahl fehlender Werte je Spalte:\n",
      "\n"
     ]
    },
    {
     "data": {
      "text/plain": [
       "Unnamed: 0    0\n",
       "date          0\n",
       "n_sick        0\n",
       "calls         0\n",
       "n_duty        0\n",
       "n_sby         0\n",
       "sby_need      0\n",
       "dafted        0\n",
       "dtype: int64"
      ]
     },
     "execution_count": 6,
     "metadata": {},
     "output_type": "execute_result"
    }
   ],
   "execution_count": 6
  },
  {
   "metadata": {},
   "cell_type": "markdown",
   "source": [
    "## Erste Erkenntnisse\n",
    "**Struktur der Daten:**\n",
    "\n",
    "- Es gibt insgesamt 1.152 Zeilen und 8 Spalten.\n",
    "- Die Spaltennamen scheinen größtenteils erklärend zu sein, jedoch gibt es eine Unnamed: 0-Spalte, die vermutlich eine Index-Spalte ist und ignoriert werden kann.\n",
    "- Die Spalte date ist als object eingelesen, was bedeutet, dass sie in ein datetime-Format konvertiert werden sollte.\n",
    "\n",
    "**Datentypen:**\n",
    "\n",
    "- Die meisten numerischen Spalten (n_sick, calls, n_duty, n_sby, sby_need, dafted) haben sinnvolle Datentypen (int64 oder float64).\n",
    "- Für die Spalte date ist es sinnvoll, sie in einen datetime-Datentyp zu konvertieren, um Zeitreihenanalysen durchführen zu können.\n",
    "\n",
    "**Fehlende Werte:**\n",
    "\n",
    "- Alle Spalten sind vollständig (es gibt keine fehlenden Werte)."
   ],
   "id": "20a492ed4e1caf4e"
  },
  {
   "metadata": {},
   "cell_type": "markdown",
   "source": "# 2. Basisinformationen",
   "id": "bb6044ea31ccc5e6"
  },
  {
   "metadata": {
    "ExecuteTime": {
     "end_time": "2024-10-31T08:08:51.656017Z",
     "start_time": "2024-10-31T08:08:51.632865Z"
    }
   },
   "cell_type": "code",
   "source": [
    "# Unnötige Index-Spalte ignorieren\n",
    "df = df.drop(columns=['Unnamed: 0'])"
   ],
   "id": "5fe53bdc3d55cf9b",
   "outputs": [],
   "execution_count": 7
  },
  {
   "metadata": {
    "ExecuteTime": {
     "end_time": "2024-10-31T08:08:51.676104Z",
     "start_time": "2024-10-31T08:08:51.662035Z"
    }
   },
   "cell_type": "code",
   "source": [
    "# Datentyp von 'date' in datetime umwandeln\n",
    "df['date'] = pd.to_datetime(df['date'])\n",
    "\n",
    "# Float-Spalten in int64 umwandeln (calls, sby_need und dafted)\n",
    "df['calls'] = df['calls'].astype('int64')\n",
    "df['sby_need'] = df['sby_need'].astype('int64')\n",
    "df['dafted'] = df['dafted'].astype('int64')\n"
   ],
   "id": "874b6d3dcb2a35b",
   "outputs": [],
   "execution_count": 8
  },
  {
   "metadata": {
    "ExecuteTime": {
     "end_time": "2024-10-31T08:08:51.699163Z",
     "start_time": "2024-10-31T08:08:51.683106Z"
    }
   },
   "cell_type": "code",
   "source": "df.info()",
   "id": "f28790aee74f9a3",
   "outputs": [
    {
     "name": "stdout",
     "output_type": "stream",
     "text": [
      "<class 'pandas.core.frame.DataFrame'>\n",
      "RangeIndex: 1152 entries, 0 to 1151\n",
      "Data columns (total 7 columns):\n",
      " #   Column    Non-Null Count  Dtype         \n",
      "---  ------    --------------  -----         \n",
      " 0   date      1152 non-null   datetime64[ns]\n",
      " 1   n_sick    1152 non-null   int64         \n",
      " 2   calls     1152 non-null   int64         \n",
      " 3   n_duty    1152 non-null   int64         \n",
      " 4   n_sby     1152 non-null   int64         \n",
      " 5   sby_need  1152 non-null   int64         \n",
      " 6   dafted    1152 non-null   int64         \n",
      "dtypes: datetime64[ns](1), int64(6)\n",
      "memory usage: 63.1 KB\n"
     ]
    }
   ],
   "execution_count": 9
  },
  {
   "metadata": {
    "ExecuteTime": {
     "end_time": "2024-10-31T08:08:51.721302Z",
     "start_time": "2024-10-31T08:08:51.704177Z"
    }
   },
   "cell_type": "code",
   "source": [
    "# Spaltennamen ins Deutsche übersetzen\n",
    "df = df.rename(columns={\n",
    "    'date': 'Datum',\n",
    "    'n_sick': 'Anzahl_Krankenstand',\n",
    "    'calls': 'Anzahl_Notrufe',\n",
    "    'n_duty': 'Anzahl_im_Dienst',\n",
    "    'n_sby': 'Anzahl_Ersatzfahrer_Bereitschaft',\n",
    "    'sby_need': 'Ersatzfahrer_aktiviert',\n",
    "    'dafted': 'Zusätzliche_Fahrer_erforderlich'\n",
    "})"
   ],
   "id": "2b921a6bcb9f5c39",
   "outputs": [],
   "execution_count": 10
  },
  {
   "metadata": {
    "ExecuteTime": {
     "end_time": "2024-10-31T08:08:51.742862Z",
     "start_time": "2024-10-31T08:08:51.725319Z"
    }
   },
   "cell_type": "code",
   "source": [
    "# Prüfen auf Duplikate\n",
    "duplicates = df.duplicated()\n",
    "\n",
    "# Anzahl der Duplikate ausgeben\n",
    "num_duplicates = duplicates.sum()\n",
    "print(f\"Anzahl der Duplikate im Datensatz: {num_duplicates}\")\n",
    "\n",
    "# Falls Duplikate vorhanden sind, die Duplikate anzeigen\n",
    "if num_duplicates > 0:\n",
    "    print(\"\\nDuplikate im Datensatz:\")\n",
    "    print(df[duplicates])\n",
    "else:\n",
    "    print(\"Es wurden keine Duplikate im Datensatz gefunden.\")\n"
   ],
   "id": "cf8563a897154cf7",
   "outputs": [
    {
     "name": "stdout",
     "output_type": "stream",
     "text": [
      "Anzahl der Duplikate im Datensatz: 0\n",
      "Es wurden keine Duplikate im Datensatz gefunden.\n"
     ]
    }
   ],
   "execution_count": 11
  },
  {
   "metadata": {},
   "cell_type": "markdown",
   "source": "# 3. Deskriptive Statistiken",
   "id": "9677c089e564f3da"
  },
  {
   "metadata": {
    "ExecuteTime": {
     "end_time": "2024-10-31T08:08:51.788205Z",
     "start_time": "2024-10-31T08:08:51.745867Z"
    }
   },
   "cell_type": "code",
   "source": "df.describe()",
   "id": "d41e3637cac6adac",
   "outputs": [
    {
     "data": {
      "text/plain": [
       "                     Datum  Anzahl_Krankenstand  Anzahl_Notrufe  \\\n",
       "count                 1152          1152.000000     1152.000000   \n",
       "mean   2017-10-28 12:00:00            68.808160     7919.531250   \n",
       "min    2016-04-01 00:00:00            36.000000     4074.000000   \n",
       "25%    2017-01-13 18:00:00            58.000000     6978.000000   \n",
       "50%    2017-10-28 12:00:00            68.000000     7932.000000   \n",
       "75%    2018-08-12 06:00:00            78.000000     8827.500000   \n",
       "max    2019-05-27 00:00:00           119.000000    11850.000000   \n",
       "std                    NaN            14.293942     1290.063571   \n",
       "\n",
       "       Anzahl_im_Dienst  Anzahl_Ersatzfahrer_Bereitschaft  \\\n",
       "count       1152.000000                            1152.0   \n",
       "mean        1820.572917                              90.0   \n",
       "min         1700.000000                              90.0   \n",
       "25%         1800.000000                              90.0   \n",
       "50%         1800.000000                              90.0   \n",
       "75%         1900.000000                              90.0   \n",
       "max         1900.000000                              90.0   \n",
       "std           80.086953                               0.0   \n",
       "\n",
       "       Ersatzfahrer_aktiviert  Zusätzliche_Fahrer_erforderlich  \n",
       "count             1152.000000                      1152.000000  \n",
       "mean                34.718750                        16.335938  \n",
       "min                  0.000000                         0.000000  \n",
       "25%                  0.000000                         0.000000  \n",
       "50%                  0.000000                         0.000000  \n",
       "75%                 12.250000                         0.000000  \n",
       "max                555.000000                       465.000000  \n",
       "std                 79.694251                        53.394089  "
      ],
      "text/html": [
       "<div>\n",
       "<style scoped>\n",
       "    .dataframe tbody tr th:only-of-type {\n",
       "        vertical-align: middle;\n",
       "    }\n",
       "\n",
       "    .dataframe tbody tr th {\n",
       "        vertical-align: top;\n",
       "    }\n",
       "\n",
       "    .dataframe thead th {\n",
       "        text-align: right;\n",
       "    }\n",
       "</style>\n",
       "<table border=\"1\" class=\"dataframe\">\n",
       "  <thead>\n",
       "    <tr style=\"text-align: right;\">\n",
       "      <th></th>\n",
       "      <th>Datum</th>\n",
       "      <th>Anzahl_Krankenstand</th>\n",
       "      <th>Anzahl_Notrufe</th>\n",
       "      <th>Anzahl_im_Dienst</th>\n",
       "      <th>Anzahl_Ersatzfahrer_Bereitschaft</th>\n",
       "      <th>Ersatzfahrer_aktiviert</th>\n",
       "      <th>Zusätzliche_Fahrer_erforderlich</th>\n",
       "    </tr>\n",
       "  </thead>\n",
       "  <tbody>\n",
       "    <tr>\n",
       "      <th>count</th>\n",
       "      <td>1152</td>\n",
       "      <td>1152.000000</td>\n",
       "      <td>1152.000000</td>\n",
       "      <td>1152.000000</td>\n",
       "      <td>1152.0</td>\n",
       "      <td>1152.000000</td>\n",
       "      <td>1152.000000</td>\n",
       "    </tr>\n",
       "    <tr>\n",
       "      <th>mean</th>\n",
       "      <td>2017-10-28 12:00:00</td>\n",
       "      <td>68.808160</td>\n",
       "      <td>7919.531250</td>\n",
       "      <td>1820.572917</td>\n",
       "      <td>90.0</td>\n",
       "      <td>34.718750</td>\n",
       "      <td>16.335938</td>\n",
       "    </tr>\n",
       "    <tr>\n",
       "      <th>min</th>\n",
       "      <td>2016-04-01 00:00:00</td>\n",
       "      <td>36.000000</td>\n",
       "      <td>4074.000000</td>\n",
       "      <td>1700.000000</td>\n",
       "      <td>90.0</td>\n",
       "      <td>0.000000</td>\n",
       "      <td>0.000000</td>\n",
       "    </tr>\n",
       "    <tr>\n",
       "      <th>25%</th>\n",
       "      <td>2017-01-13 18:00:00</td>\n",
       "      <td>58.000000</td>\n",
       "      <td>6978.000000</td>\n",
       "      <td>1800.000000</td>\n",
       "      <td>90.0</td>\n",
       "      <td>0.000000</td>\n",
       "      <td>0.000000</td>\n",
       "    </tr>\n",
       "    <tr>\n",
       "      <th>50%</th>\n",
       "      <td>2017-10-28 12:00:00</td>\n",
       "      <td>68.000000</td>\n",
       "      <td>7932.000000</td>\n",
       "      <td>1800.000000</td>\n",
       "      <td>90.0</td>\n",
       "      <td>0.000000</td>\n",
       "      <td>0.000000</td>\n",
       "    </tr>\n",
       "    <tr>\n",
       "      <th>75%</th>\n",
       "      <td>2018-08-12 06:00:00</td>\n",
       "      <td>78.000000</td>\n",
       "      <td>8827.500000</td>\n",
       "      <td>1900.000000</td>\n",
       "      <td>90.0</td>\n",
       "      <td>12.250000</td>\n",
       "      <td>0.000000</td>\n",
       "    </tr>\n",
       "    <tr>\n",
       "      <th>max</th>\n",
       "      <td>2019-05-27 00:00:00</td>\n",
       "      <td>119.000000</td>\n",
       "      <td>11850.000000</td>\n",
       "      <td>1900.000000</td>\n",
       "      <td>90.0</td>\n",
       "      <td>555.000000</td>\n",
       "      <td>465.000000</td>\n",
       "    </tr>\n",
       "    <tr>\n",
       "      <th>std</th>\n",
       "      <td>NaN</td>\n",
       "      <td>14.293942</td>\n",
       "      <td>1290.063571</td>\n",
       "      <td>80.086953</td>\n",
       "      <td>0.0</td>\n",
       "      <td>79.694251</td>\n",
       "      <td>53.394089</td>\n",
       "    </tr>\n",
       "  </tbody>\n",
       "</table>\n",
       "</div>"
      ]
     },
     "execution_count": 12,
     "metadata": {},
     "output_type": "execute_result"
    }
   ],
   "execution_count": 12
  },
  {
   "metadata": {},
   "cell_type": "markdown",
   "source": [
    "## 1. Anzahl_Krankenstand\n",
    "- **Durchschnitt:** Der Mittelwert liegt bei etwa 69 Krankenständen pro Tag.\n",
    "- **Spannweite:** Die Anzahl der Krankenstände reicht von einem Minimum von 36 bis zu einem Maximum von 119.\n",
    "- **Quartile:** 50 % der Werte liegen zwischen 58 und 78, was zeigt, dass die Anzahl der Krankenstände an den meisten Tagen relativ konstant ist.\n",
    "- **Standardabweichung:** Die Abweichung von ca. 14 weist auf eine moderate Schwankung hin.\n",
    "- **Interpretation:** Diese Zahlen bestätigen die Einschätzung, dass die Anzahl der Krankenstände je nach Tag schwanken kann. Die hohen Werte könnten saisonale oder epidemiebedingte Spitzenzeiten (z. B. Grippewellen im Winter) widerspiegeln.\n",
    "## 2. Anzahl_Notrufe\n",
    "- **Durchschnitt:** Durchschnittlich gibt es ca. 7.920 Notrufe pro Tag.\n",
    "- **Spannweite:** Die Anzahl der Notrufe reicht von 4.074 bis 11.850, was auf erhebliche Schwankungen hinweist.\n",
    "- **Quartile:** 50 % der Werte liegen zwischen 6.978 und 8.827, was einen relativ großen Bereich abdeckt und darauf hinweist, dass die Nachfrage an Notrufen variabel ist.\n",
    "- **Standardabweichung:** Mit einer Abweichung von etwa 1.290 ist die Anzahl der Notrufe recht volatil.\n",
    "- **Interpretation:** Die Notrufanzahl kann stark schwanken und könnte auf Wochentage, Feiertage oder saisonale Effekte zurückzuführen sein.\n",
    "## 3. Anzahl_im_Dienst\n",
    "- **Durchschnitt:** Im Durchschnitt sind etwa 1.821 Einsatzfahrer im Dienst.\n",
    "- **Spannweite:** Die Anzahl im Dienst liegt zwischen 1.700 und 1.900, was auf eine geplante Mindest- und Höchstbesetzung hindeutet.\n",
    "- **Quartile:** 50 % der Werte liegen zwischen 1.800 und 1.900, was zeigt, dass die Anzahl im Dienst nur in geringem Maße variiert.\n",
    "- **Standardabweichung:** Die geringe Abweichung von 80 deutet auf eine konstante Dienstbesetzung hin.\n",
    "- **Interpretation:** Die Anzahl der im Dienst befindlichen Einsatzfahrer scheint reguliert und stabil zu sein, unabhängig von der Tageszeit oder saisonalen Schwankungen.\n",
    "## 4. Anzahl_Ersatzfahrer_Bereitschaft\n",
    "- **Wert:** Der Wert ist konstant bei 90, was auf die aktuelle Planungsregel hinweist, bei der täglich 90 Fahrer in Bereitschaft sind.\n",
    "- **Interpretation:** Diese Konstanz bestätigt die Annahme, dass derzeit eine feste Anzahl an Ersatzfahrern vorgehalten wird, was optimiert werden könnte, um auf die variierenden Anforderungen zu reagieren.\n",
    "## 5. Ersatzfahrer_aktiviert\n",
    "- **Durchschnitt:** Im Mittel werden täglich etwa 35 der Bereitschaftsfahrer tatsächlich aktiviert.\n",
    "- **Spannweite:** Die Werte reichen von 0 bis zu einem Maximum von 555 aktivierten Fahrern, was auf erhebliche Schwankungen hinweist.\n",
    "- **Quartile:** Für 75 % der Tage liegt der Wert bei 0, was zeigt, dass an vielen Tagen keine zusätzlichen Fahrer benötigt werden.\n",
    "- **Standardabweichung:** Eine Abweichung von ca. 80 zeigt, dass die Anzahl aktivierter Ersatzfahrer stark variieren kann.\n",
    "- **Interpretation:** Die hohe Variabilität deutet auf eine unvorhersehbare Bedarfsstruktur hin, wobei in Spitzenzeiten deutlich mehr Ersatzfahrer benötigt werden könnten.\n",
    "## 6. Zusätzliche_Fahrer_erforderlich\n",
    "- **Durchschnitt:** Im Mittel müssen täglich etwa 16 zusätzliche Fahrer aktiviert werden, wenn die Bereitschaftsfahrer nicht ausreichen.\n",
    "- **Spannweite:** Die Anzahl der zusätzlichen Fahrer reicht von 0 bis 465, was auf extreme Engpässe an manchen Tagen hinweist.\n",
    "- **Quartile:** Für 75 % der Tage ist der Wert 0, was darauf hindeutet, dass diese zusätzliche Aktivierung nur gelegentlich erforderlich ist.\n",
    "- **Standardabweichung:** Die Abweichung von etwa 53 zeigt, dass die Notwendigkeit für zusätzliche Fahrer stark schwanken kann.\n",
    "- **Interpretation:** Die hohen Maximalwerte und Schwankungen deuten darauf hin, dass an bestimmten Tagen erheblich mehr Personal benötigt wird, als ursprünglich geplant – eine Herausforderung für die aktuelle Planungsstrategie."
   ],
   "id": "47114a59b2c6fbae"
  },
  {
   "metadata": {
    "ExecuteTime": {
     "end_time": "2024-10-31T08:08:53.082264Z",
     "start_time": "2024-10-31T08:08:51.789210Z"
    }
   },
   "cell_type": "code",
   "source": [
    "# Erstellen von Verteilungsdiagrammen mit Density-Kurven in einem 3x2-Layout\n",
    "fig, axes = plt.subplots(2, 3, figsize=(18, 10))\n",
    "fig.suptitle('Verteilungen der numerischen Variablen mit Dichtefunktion')\n",
    "\n",
    "# Durch die numerischen Spalten iterieren und Verteilungsdiagramme erstellen\n",
    "numeric_columns = ['Anzahl_Krankenstand', 'Anzahl_Notrufe', 'Anzahl_im_Dienst', \n",
    "                   'Anzahl_Ersatzfahrer_Bereitschaft', 'Ersatzfahrer_aktiviert', \n",
    "                   'Zusätzliche_Fahrer_erforderlich']\n",
    "\n",
    "for i, column in enumerate(numeric_columns):\n",
    "    row = i // 3\n",
    "    col = i % 3\n",
    "    sns.histplot(df[column], kde=True, bins=10, edgecolor='black', ax=axes[row, col])\n",
    "    axes[row, col].set_title(f'Verteilung der {column}')\n",
    "    axes[row, col].set_xlabel(column)\n",
    "    axes[row, col].set_ylabel('Häufigkeit')\n",
    "\n",
    "plt.tight_layout(rect=[0, 0.03, 1, 0.95])\n",
    "plt.show()"
   ],
   "id": "6402b4e9ea76de2c",
   "outputs": [
    {
     "ename": "AttributeError",
     "evalue": "module 'matplotlib' has no attribute 'backends'",
     "output_type": "error",
     "traceback": [
      "\u001B[1;31m---------------------------------------------------------------------------\u001B[0m",
      "\u001B[1;31mAttributeError\u001B[0m                            Traceback (most recent call last)",
      "Cell \u001B[1;32mIn[13], line 2\u001B[0m\n\u001B[0;32m      1\u001B[0m \u001B[38;5;66;03m# Erstellen von Verteilungsdiagrammen mit Density-Kurven in einem 3x2-Layout\u001B[39;00m\n\u001B[1;32m----> 2\u001B[0m fig, axes \u001B[38;5;241m=\u001B[39m \u001B[43mplt\u001B[49m\u001B[38;5;241;43m.\u001B[39;49m\u001B[43msubplots\u001B[49m\u001B[43m(\u001B[49m\u001B[38;5;241;43m2\u001B[39;49m\u001B[43m,\u001B[49m\u001B[43m \u001B[49m\u001B[38;5;241;43m3\u001B[39;49m\u001B[43m,\u001B[49m\u001B[43m \u001B[49m\u001B[43mfigsize\u001B[49m\u001B[38;5;241;43m=\u001B[39;49m\u001B[43m(\u001B[49m\u001B[38;5;241;43m18\u001B[39;49m\u001B[43m,\u001B[49m\u001B[43m \u001B[49m\u001B[38;5;241;43m10\u001B[39;49m\u001B[43m)\u001B[49m\u001B[43m)\u001B[49m\n\u001B[0;32m      3\u001B[0m fig\u001B[38;5;241m.\u001B[39msuptitle(\u001B[38;5;124m'\u001B[39m\u001B[38;5;124mVerteilungen der numerischen Variablen mit Dichtefunktion\u001B[39m\u001B[38;5;124m'\u001B[39m)\n\u001B[0;32m      5\u001B[0m \u001B[38;5;66;03m# Durch die numerischen Spalten iterieren und Verteilungsdiagramme erstellen\u001B[39;00m\n",
      "File \u001B[1;32m~\\PycharmProjects\\modelEngineeringCaseStudy2\\.venv\\Lib\\site-packages\\matplotlib\\pyplot.py:1759\u001B[0m, in \u001B[0;36msubplots\u001B[1;34m(nrows, ncols, sharex, sharey, squeeze, width_ratios, height_ratios, subplot_kw, gridspec_kw, **fig_kw)\u001B[0m\n\u001B[0;32m   1604\u001B[0m \u001B[38;5;28;01mdef\u001B[39;00m \u001B[38;5;21msubplots\u001B[39m(\n\u001B[0;32m   1605\u001B[0m     nrows: \u001B[38;5;28mint\u001B[39m \u001B[38;5;241m=\u001B[39m \u001B[38;5;241m1\u001B[39m, ncols: \u001B[38;5;28mint\u001B[39m \u001B[38;5;241m=\u001B[39m \u001B[38;5;241m1\u001B[39m, \u001B[38;5;241m*\u001B[39m,\n\u001B[0;32m   1606\u001B[0m     sharex: \u001B[38;5;28mbool\u001B[39m \u001B[38;5;241m|\u001B[39m Literal[\u001B[38;5;124m\"\u001B[39m\u001B[38;5;124mnone\u001B[39m\u001B[38;5;124m\"\u001B[39m, \u001B[38;5;124m\"\u001B[39m\u001B[38;5;124mall\u001B[39m\u001B[38;5;124m\"\u001B[39m, \u001B[38;5;124m\"\u001B[39m\u001B[38;5;124mrow\u001B[39m\u001B[38;5;124m\"\u001B[39m, \u001B[38;5;124m\"\u001B[39m\u001B[38;5;124mcol\u001B[39m\u001B[38;5;124m\"\u001B[39m] \u001B[38;5;241m=\u001B[39m \u001B[38;5;28;01mFalse\u001B[39;00m,\n\u001B[1;32m   (...)\u001B[0m\n\u001B[0;32m   1613\u001B[0m     \u001B[38;5;241m*\u001B[39m\u001B[38;5;241m*\u001B[39mfig_kw\n\u001B[0;32m   1614\u001B[0m ) \u001B[38;5;241m-\u001B[39m\u001B[38;5;241m>\u001B[39m \u001B[38;5;28mtuple\u001B[39m[Figure, Any]:\n\u001B[0;32m   1615\u001B[0m \u001B[38;5;250m    \u001B[39m\u001B[38;5;124;03m\"\"\"\u001B[39;00m\n\u001B[0;32m   1616\u001B[0m \u001B[38;5;124;03m    Create a figure and a set of subplots.\u001B[39;00m\n\u001B[0;32m   1617\u001B[0m \n\u001B[1;32m   (...)\u001B[0m\n\u001B[0;32m   1757\u001B[0m \n\u001B[0;32m   1758\u001B[0m \u001B[38;5;124;03m    \"\"\"\u001B[39;00m\n\u001B[1;32m-> 1759\u001B[0m     fig \u001B[38;5;241m=\u001B[39m \u001B[43mfigure\u001B[49m\u001B[43m(\u001B[49m\u001B[38;5;241;43m*\u001B[39;49m\u001B[38;5;241;43m*\u001B[39;49m\u001B[43mfig_kw\u001B[49m\u001B[43m)\u001B[49m\n\u001B[0;32m   1760\u001B[0m     axs \u001B[38;5;241m=\u001B[39m fig\u001B[38;5;241m.\u001B[39msubplots(nrows\u001B[38;5;241m=\u001B[39mnrows, ncols\u001B[38;5;241m=\u001B[39mncols, sharex\u001B[38;5;241m=\u001B[39msharex, sharey\u001B[38;5;241m=\u001B[39msharey,\n\u001B[0;32m   1761\u001B[0m                        squeeze\u001B[38;5;241m=\u001B[39msqueeze, subplot_kw\u001B[38;5;241m=\u001B[39msubplot_kw,\n\u001B[0;32m   1762\u001B[0m                        gridspec_kw\u001B[38;5;241m=\u001B[39mgridspec_kw, height_ratios\u001B[38;5;241m=\u001B[39mheight_ratios,\n\u001B[0;32m   1763\u001B[0m                        width_ratios\u001B[38;5;241m=\u001B[39mwidth_ratios)\n\u001B[0;32m   1764\u001B[0m     \u001B[38;5;28;01mreturn\u001B[39;00m fig, axs\n",
      "File \u001B[1;32m~\\PycharmProjects\\modelEngineeringCaseStudy2\\.venv\\Lib\\site-packages\\matplotlib\\pyplot.py:1027\u001B[0m, in \u001B[0;36mfigure\u001B[1;34m(num, figsize, dpi, facecolor, edgecolor, frameon, FigureClass, clear, **kwargs)\u001B[0m\n\u001B[0;32m   1017\u001B[0m \u001B[38;5;28;01mif\u001B[39;00m \u001B[38;5;28mlen\u001B[39m(allnums) \u001B[38;5;241m==\u001B[39m max_open_warning \u001B[38;5;241m>\u001B[39m\u001B[38;5;241m=\u001B[39m \u001B[38;5;241m1\u001B[39m:\n\u001B[0;32m   1018\u001B[0m     _api\u001B[38;5;241m.\u001B[39mwarn_external(\n\u001B[0;32m   1019\u001B[0m         \u001B[38;5;124mf\u001B[39m\u001B[38;5;124m\"\u001B[39m\u001B[38;5;124mMore than \u001B[39m\u001B[38;5;132;01m{\u001B[39;00mmax_open_warning\u001B[38;5;132;01m}\u001B[39;00m\u001B[38;5;124m figures have been opened. \u001B[39m\u001B[38;5;124m\"\u001B[39m\n\u001B[0;32m   1020\u001B[0m         \u001B[38;5;124mf\u001B[39m\u001B[38;5;124m\"\u001B[39m\u001B[38;5;124mFigures created through the pyplot interface \u001B[39m\u001B[38;5;124m\"\u001B[39m\n\u001B[1;32m   (...)\u001B[0m\n\u001B[0;32m   1024\u001B[0m         \u001B[38;5;124mf\u001B[39m\u001B[38;5;124m\"\u001B[39m\u001B[38;5;124mConsider using `matplotlib.pyplot.close()`.\u001B[39m\u001B[38;5;124m\"\u001B[39m,\n\u001B[0;32m   1025\u001B[0m         \u001B[38;5;167;01mRuntimeWarning\u001B[39;00m)\n\u001B[1;32m-> 1027\u001B[0m manager \u001B[38;5;241m=\u001B[39m \u001B[43mnew_figure_manager\u001B[49m\u001B[43m(\u001B[49m\n\u001B[0;32m   1028\u001B[0m \u001B[43m    \u001B[49m\u001B[43mnum\u001B[49m\u001B[43m,\u001B[49m\u001B[43m \u001B[49m\u001B[43mfigsize\u001B[49m\u001B[38;5;241;43m=\u001B[39;49m\u001B[43mfigsize\u001B[49m\u001B[43m,\u001B[49m\u001B[43m \u001B[49m\u001B[43mdpi\u001B[49m\u001B[38;5;241;43m=\u001B[39;49m\u001B[43mdpi\u001B[49m\u001B[43m,\u001B[49m\n\u001B[0;32m   1029\u001B[0m \u001B[43m    \u001B[49m\u001B[43mfacecolor\u001B[49m\u001B[38;5;241;43m=\u001B[39;49m\u001B[43mfacecolor\u001B[49m\u001B[43m,\u001B[49m\u001B[43m \u001B[49m\u001B[43medgecolor\u001B[49m\u001B[38;5;241;43m=\u001B[39;49m\u001B[43medgecolor\u001B[49m\u001B[43m,\u001B[49m\u001B[43m \u001B[49m\u001B[43mframeon\u001B[49m\u001B[38;5;241;43m=\u001B[39;49m\u001B[43mframeon\u001B[49m\u001B[43m,\u001B[49m\n\u001B[0;32m   1030\u001B[0m \u001B[43m    \u001B[49m\u001B[43mFigureClass\u001B[49m\u001B[38;5;241;43m=\u001B[39;49m\u001B[43mFigureClass\u001B[49m\u001B[43m,\u001B[49m\u001B[43m \u001B[49m\u001B[38;5;241;43m*\u001B[39;49m\u001B[38;5;241;43m*\u001B[39;49m\u001B[43mkwargs\u001B[49m\u001B[43m)\u001B[49m\n\u001B[0;32m   1031\u001B[0m fig \u001B[38;5;241m=\u001B[39m manager\u001B[38;5;241m.\u001B[39mcanvas\u001B[38;5;241m.\u001B[39mfigure\n\u001B[0;32m   1032\u001B[0m \u001B[38;5;28;01mif\u001B[39;00m fig_label:\n",
      "File \u001B[1;32m~\\PycharmProjects\\modelEngineeringCaseStudy2\\.venv\\Lib\\site-packages\\matplotlib\\pyplot.py:549\u001B[0m, in \u001B[0;36mnew_figure_manager\u001B[1;34m(*args, **kwargs)\u001B[0m\n\u001B[0;32m    547\u001B[0m \u001B[38;5;28;01mdef\u001B[39;00m \u001B[38;5;21mnew_figure_manager\u001B[39m(\u001B[38;5;241m*\u001B[39margs, \u001B[38;5;241m*\u001B[39m\u001B[38;5;241m*\u001B[39mkwargs):\n\u001B[0;32m    548\u001B[0m \u001B[38;5;250m    \u001B[39m\u001B[38;5;124;03m\"\"\"Create a new figure manager instance.\"\"\"\u001B[39;00m\n\u001B[1;32m--> 549\u001B[0m     \u001B[43m_warn_if_gui_out_of_main_thread\u001B[49m\u001B[43m(\u001B[49m\u001B[43m)\u001B[49m\n\u001B[0;32m    550\u001B[0m     \u001B[38;5;28;01mreturn\u001B[39;00m _get_backend_mod()\u001B[38;5;241m.\u001B[39mnew_figure_manager(\u001B[38;5;241m*\u001B[39margs, \u001B[38;5;241m*\u001B[39m\u001B[38;5;241m*\u001B[39mkwargs)\n",
      "File \u001B[1;32m~\\PycharmProjects\\modelEngineeringCaseStudy2\\.venv\\Lib\\site-packages\\matplotlib\\pyplot.py:526\u001B[0m, in \u001B[0;36m_warn_if_gui_out_of_main_thread\u001B[1;34m()\u001B[0m\n\u001B[0;32m    524\u001B[0m \u001B[38;5;28;01mdef\u001B[39;00m \u001B[38;5;21m_warn_if_gui_out_of_main_thread\u001B[39m() \u001B[38;5;241m-\u001B[39m\u001B[38;5;241m>\u001B[39m \u001B[38;5;28;01mNone\u001B[39;00m:\n\u001B[0;32m    525\u001B[0m     warn \u001B[38;5;241m=\u001B[39m \u001B[38;5;28;01mFalse\u001B[39;00m\n\u001B[1;32m--> 526\u001B[0m     canvas_class \u001B[38;5;241m=\u001B[39m cast(\u001B[38;5;28mtype\u001B[39m[FigureCanvasBase], \u001B[43m_get_backend_mod\u001B[49m\u001B[43m(\u001B[49m\u001B[43m)\u001B[49m\u001B[38;5;241m.\u001B[39mFigureCanvas)\n\u001B[0;32m    527\u001B[0m     \u001B[38;5;28;01mif\u001B[39;00m canvas_class\u001B[38;5;241m.\u001B[39mrequired_interactive_framework:\n\u001B[0;32m    528\u001B[0m         \u001B[38;5;28;01mif\u001B[39;00m \u001B[38;5;28mhasattr\u001B[39m(threading, \u001B[38;5;124m'\u001B[39m\u001B[38;5;124mget_native_id\u001B[39m\u001B[38;5;124m'\u001B[39m):\n\u001B[0;32m    529\u001B[0m             \u001B[38;5;66;03m# This compares native thread ids because even if Python-level\u001B[39;00m\n\u001B[0;32m    530\u001B[0m             \u001B[38;5;66;03m# Thread objects match, the underlying OS thread (which is what\u001B[39;00m\n\u001B[0;32m    531\u001B[0m             \u001B[38;5;66;03m# really matters) may be different on Python implementations with\u001B[39;00m\n\u001B[0;32m    532\u001B[0m             \u001B[38;5;66;03m# green threads.\u001B[39;00m\n",
      "File \u001B[1;32m~\\PycharmProjects\\modelEngineeringCaseStudy2\\.venv\\Lib\\site-packages\\matplotlib\\pyplot.py:358\u001B[0m, in \u001B[0;36m_get_backend_mod\u001B[1;34m()\u001B[0m\n\u001B[0;32m    349\u001B[0m \u001B[38;5;250m\u001B[39m\u001B[38;5;124;03m\"\"\"\u001B[39;00m\n\u001B[0;32m    350\u001B[0m \u001B[38;5;124;03mEnsure that a backend is selected and return it.\u001B[39;00m\n\u001B[0;32m    351\u001B[0m \n\u001B[0;32m    352\u001B[0m \u001B[38;5;124;03mThis is currently private, but may be made public in the future.\u001B[39;00m\n\u001B[0;32m    353\u001B[0m \u001B[38;5;124;03m\"\"\"\u001B[39;00m\n\u001B[0;32m    354\u001B[0m \u001B[38;5;28;01mif\u001B[39;00m _backend_mod \u001B[38;5;129;01mis\u001B[39;00m \u001B[38;5;28;01mNone\u001B[39;00m:\n\u001B[0;32m    355\u001B[0m     \u001B[38;5;66;03m# Use rcParams._get(\"backend\") to avoid going through the fallback\u001B[39;00m\n\u001B[0;32m    356\u001B[0m     \u001B[38;5;66;03m# logic (which will (re)import pyplot and then call switch_backend if\u001B[39;00m\n\u001B[0;32m    357\u001B[0m     \u001B[38;5;66;03m# we need to resolve the auto sentinel)\u001B[39;00m\n\u001B[1;32m--> 358\u001B[0m     \u001B[43mswitch_backend\u001B[49m\u001B[43m(\u001B[49m\u001B[43mrcParams\u001B[49m\u001B[38;5;241;43m.\u001B[39;49m\u001B[43m_get\u001B[49m\u001B[43m(\u001B[49m\u001B[38;5;124;43m\"\u001B[39;49m\u001B[38;5;124;43mbackend\u001B[39;49m\u001B[38;5;124;43m\"\u001B[39;49m\u001B[43m)\u001B[49m\u001B[43m)\u001B[49m\n\u001B[0;32m    359\u001B[0m \u001B[38;5;28;01mreturn\u001B[39;00m cast(\u001B[38;5;28mtype\u001B[39m[matplotlib\u001B[38;5;241m.\u001B[39mbackend_bases\u001B[38;5;241m.\u001B[39m_Backend], _backend_mod)\n",
      "File \u001B[1;32m~\\PycharmProjects\\modelEngineeringCaseStudy2\\.venv\\Lib\\site-packages\\matplotlib\\pyplot.py:510\u001B[0m, in \u001B[0;36mswitch_backend\u001B[1;34m(newbackend)\u001B[0m\n\u001B[0;32m    505\u001B[0m     \u001B[38;5;28mglobals\u001B[39m()[func_name]\u001B[38;5;241m.\u001B[39m__signature__ \u001B[38;5;241m=\u001B[39m inspect\u001B[38;5;241m.\u001B[39msignature(\n\u001B[0;32m    506\u001B[0m         \u001B[38;5;28mgetattr\u001B[39m(backend_mod, func_name))\n\u001B[0;32m    508\u001B[0m \u001B[38;5;66;03m# Need to keep a global reference to the backend for compatibility reasons.\u001B[39;00m\n\u001B[0;32m    509\u001B[0m \u001B[38;5;66;03m# See https://github.com/matplotlib/matplotlib/issues/6092\u001B[39;00m\n\u001B[1;32m--> 510\u001B[0m \u001B[43mmatplotlib\u001B[49m\u001B[38;5;241;43m.\u001B[39;49m\u001B[43mbackends\u001B[49m\u001B[38;5;241m.\u001B[39mbackend \u001B[38;5;241m=\u001B[39m newbackend  \u001B[38;5;66;03m# type: ignore[attr-defined]\u001B[39;00m\n\u001B[0;32m    512\u001B[0m \u001B[38;5;28;01mif\u001B[39;00m \u001B[38;5;129;01mnot\u001B[39;00m cbook\u001B[38;5;241m.\u001B[39m_str_equal(old_backend, newbackend):\n\u001B[0;32m    513\u001B[0m     \u001B[38;5;28;01mif\u001B[39;00m get_fignums():\n",
      "File \u001B[1;32m~\\PycharmProjects\\modelEngineeringCaseStudy2\\.venv\\Lib\\site-packages\\matplotlib\\_api\\__init__.py:217\u001B[0m, in \u001B[0;36mcaching_module_getattr.<locals>.__getattr__\u001B[1;34m(name)\u001B[0m\n\u001B[0;32m    215\u001B[0m \u001B[38;5;28;01mif\u001B[39;00m name \u001B[38;5;129;01min\u001B[39;00m props:\n\u001B[0;32m    216\u001B[0m     \u001B[38;5;28;01mreturn\u001B[39;00m props[name]\u001B[38;5;241m.\u001B[39m\u001B[38;5;21m__get__\u001B[39m(instance)\n\u001B[1;32m--> 217\u001B[0m \u001B[38;5;28;01mraise\u001B[39;00m \u001B[38;5;167;01mAttributeError\u001B[39;00m(\n\u001B[0;32m    218\u001B[0m     \u001B[38;5;124mf\u001B[39m\u001B[38;5;124m\"\u001B[39m\u001B[38;5;124mmodule \u001B[39m\u001B[38;5;132;01m{\u001B[39;00m\u001B[38;5;28mcls\u001B[39m\u001B[38;5;241m.\u001B[39m\u001B[38;5;18m__module__\u001B[39m\u001B[38;5;132;01m!r}\u001B[39;00m\u001B[38;5;124m has no attribute \u001B[39m\u001B[38;5;132;01m{\u001B[39;00mname\u001B[38;5;132;01m!r}\u001B[39;00m\u001B[38;5;124m\"\u001B[39m)\n",
      "\u001B[1;31mAttributeError\u001B[0m: module 'matplotlib' has no attribute 'backends'"
     ]
    },
    {
     "name": "stdout",
     "output_type": "stream",
     "text": [
      "Error in callback <function _enable_matplotlib_integration.<locals>.configure_once at 0x000001BF215911C0> (for post_run_cell), with arguments args (<ExecutionResult object at 1bf215743b0, execution_count=13 error_before_exec=None error_in_exec=module 'matplotlib' has no attribute 'backends' info=<ExecutionInfo object at 1bf21574800, raw_cell=\"# Erstellen von Verteilungsdiagrammen mit Density-..\" store_history=True silent=False shell_futures=True cell_id=None> result=None>,),kwargs {}:\n"
     ]
    },
    {
     "ename": "AttributeError",
     "evalue": "module 'matplotlib' has no attribute 'backends'",
     "output_type": "error",
     "traceback": [
      "\u001B[1;31m---------------------------------------------------------------------------\u001B[0m",
      "\u001B[1;31mAttributeError\u001B[0m                            Traceback (most recent call last)",
      "File \u001B[1;32m~\\PycharmProjects\\modelEngineeringCaseStudy2\\.venv\\Lib\\site-packages\\matplotlib_inline\\backend_inline.py:222\u001B[0m, in \u001B[0;36m_enable_matplotlib_integration.<locals>.configure_once\u001B[1;34m(*args)\u001B[0m\n\u001B[0;32m    221\u001B[0m \u001B[38;5;28;01mdef\u001B[39;00m \u001B[38;5;21mconfigure_once\u001B[39m(\u001B[38;5;241m*\u001B[39margs):\n\u001B[1;32m--> 222\u001B[0m     \u001B[43mactivate_matplotlib\u001B[49m\u001B[43m(\u001B[49m\u001B[43mbackend\u001B[49m\u001B[43m)\u001B[49m\n\u001B[0;32m    223\u001B[0m     configure_inline_support(ip, backend)\n\u001B[0;32m    224\u001B[0m     ip\u001B[38;5;241m.\u001B[39mevents\u001B[38;5;241m.\u001B[39munregister(\u001B[38;5;124m'\u001B[39m\u001B[38;5;124mpost_run_cell\u001B[39m\u001B[38;5;124m'\u001B[39m, configure_once)\n",
      "File \u001B[1;32m~\\PycharmProjects\\modelEngineeringCaseStudy2\\.venv\\Lib\\site-packages\\IPython\\core\\pylabtools.py:410\u001B[0m, in \u001B[0;36mactivate_matplotlib\u001B[1;34m(backend)\u001B[0m\n\u001B[0;32m    405\u001B[0m \u001B[38;5;66;03m# Due to circular imports, pyplot may be only partially initialised\u001B[39;00m\n\u001B[0;32m    406\u001B[0m \u001B[38;5;66;03m# when this function runs.\u001B[39;00m\n\u001B[0;32m    407\u001B[0m \u001B[38;5;66;03m# So avoid needing matplotlib attribute-lookup to access pyplot.\u001B[39;00m\n\u001B[0;32m    408\u001B[0m \u001B[38;5;28;01mfrom\u001B[39;00m \u001B[38;5;21;01mmatplotlib\u001B[39;00m \u001B[38;5;28;01mimport\u001B[39;00m pyplot \u001B[38;5;28;01mas\u001B[39;00m plt\n\u001B[1;32m--> 410\u001B[0m \u001B[43mplt\u001B[49m\u001B[38;5;241;43m.\u001B[39;49m\u001B[43mswitch_backend\u001B[49m\u001B[43m(\u001B[49m\u001B[43mbackend\u001B[49m\u001B[43m)\u001B[49m\n\u001B[0;32m    412\u001B[0m plt\u001B[38;5;241m.\u001B[39mshow\u001B[38;5;241m.\u001B[39m_needmain \u001B[38;5;241m=\u001B[39m \u001B[38;5;28;01mFalse\u001B[39;00m\n\u001B[0;32m    413\u001B[0m \u001B[38;5;66;03m# We need to detect at runtime whether show() is called by the user.\u001B[39;00m\n\u001B[0;32m    414\u001B[0m \u001B[38;5;66;03m# For this, we wrap it into a decorator which adds a 'called' flag.\u001B[39;00m\n",
      "File \u001B[1;32m~\\PycharmProjects\\modelEngineeringCaseStudy2\\.venv\\Lib\\site-packages\\matplotlib\\pyplot.py:510\u001B[0m, in \u001B[0;36mswitch_backend\u001B[1;34m(newbackend)\u001B[0m\n\u001B[0;32m    505\u001B[0m     \u001B[38;5;28mglobals\u001B[39m()[func_name]\u001B[38;5;241m.\u001B[39m__signature__ \u001B[38;5;241m=\u001B[39m inspect\u001B[38;5;241m.\u001B[39msignature(\n\u001B[0;32m    506\u001B[0m         \u001B[38;5;28mgetattr\u001B[39m(backend_mod, func_name))\n\u001B[0;32m    508\u001B[0m \u001B[38;5;66;03m# Need to keep a global reference to the backend for compatibility reasons.\u001B[39;00m\n\u001B[0;32m    509\u001B[0m \u001B[38;5;66;03m# See https://github.com/matplotlib/matplotlib/issues/6092\u001B[39;00m\n\u001B[1;32m--> 510\u001B[0m \u001B[43mmatplotlib\u001B[49m\u001B[38;5;241;43m.\u001B[39;49m\u001B[43mbackends\u001B[49m\u001B[38;5;241m.\u001B[39mbackend \u001B[38;5;241m=\u001B[39m newbackend  \u001B[38;5;66;03m# type: ignore[attr-defined]\u001B[39;00m\n\u001B[0;32m    512\u001B[0m \u001B[38;5;28;01mif\u001B[39;00m \u001B[38;5;129;01mnot\u001B[39;00m cbook\u001B[38;5;241m.\u001B[39m_str_equal(old_backend, newbackend):\n\u001B[0;32m    513\u001B[0m     \u001B[38;5;28;01mif\u001B[39;00m get_fignums():\n",
      "File \u001B[1;32m~\\PycharmProjects\\modelEngineeringCaseStudy2\\.venv\\Lib\\site-packages\\matplotlib\\_api\\__init__.py:217\u001B[0m, in \u001B[0;36mcaching_module_getattr.<locals>.__getattr__\u001B[1;34m(name)\u001B[0m\n\u001B[0;32m    215\u001B[0m \u001B[38;5;28;01mif\u001B[39;00m name \u001B[38;5;129;01min\u001B[39;00m props:\n\u001B[0;32m    216\u001B[0m     \u001B[38;5;28;01mreturn\u001B[39;00m props[name]\u001B[38;5;241m.\u001B[39m\u001B[38;5;21m__get__\u001B[39m(instance)\n\u001B[1;32m--> 217\u001B[0m \u001B[38;5;28;01mraise\u001B[39;00m \u001B[38;5;167;01mAttributeError\u001B[39;00m(\n\u001B[0;32m    218\u001B[0m     \u001B[38;5;124mf\u001B[39m\u001B[38;5;124m\"\u001B[39m\u001B[38;5;124mmodule \u001B[39m\u001B[38;5;132;01m{\u001B[39;00m\u001B[38;5;28mcls\u001B[39m\u001B[38;5;241m.\u001B[39m\u001B[38;5;18m__module__\u001B[39m\u001B[38;5;132;01m!r}\u001B[39;00m\u001B[38;5;124m has no attribute \u001B[39m\u001B[38;5;132;01m{\u001B[39;00mname\u001B[38;5;132;01m!r}\u001B[39;00m\u001B[38;5;124m\"\u001B[39m)\n",
      "\u001B[1;31mAttributeError\u001B[0m: module 'matplotlib' has no attribute 'backends'"
     ]
    }
   ],
   "execution_count": 13
  },
  {
   "metadata": {},
   "cell_type": "markdown",
   "source": [
    "## 1. Anzahl_Krankenstand\n",
    "- **Verteilung:** Die Verteilung zeigt eine leichte Schiefe nach rechts, was bedeutet, dass die meisten Krankenstandszahlen in einem Bereich von etwa 50 bis 80 liegen, mit einigen Ausreißern bis etwa 120.\n",
    "- **Dichtekurve:** Die Dichtekurve zeigt eine relativ breite Verteilung, was auf die Varianz bei Krankenständen hinweist. Dies könnte saisonale Schwankungen widerspiegeln, beispielsweise höhere Krankenstände im Winter.\n",
    "## 2. Anzahl_Notrufe\n",
    "- **Verteilung:** Die Notrufanzahl zeigt eine annähernd normale Verteilung, zentriert um den Mittelwert von ca. 8.000.\n",
    "- **Dichtekurve:** Die symmetrische Form der Dichtekurve deutet darauf hin, dass die meisten Notrufzahlen um diesen Durchschnittswert schwanken. Die Verteilung hat jedoch auch lange Enden, was auf gelegentlich hohe oder niedrige Notrufzahlen hinweist, möglicherweise an Wochenenden oder Feiertagen.\n",
    "## 3. Anzahl_im_Dienst\n",
    "- **Verteilung:** Die Verteilung zeigt eine klare Gruppierung der Werte bei 1700, 1800 und 1900, was auf festgelegte Personalstärken hinweist.\n",
    "- **Dichtekurve:** Diese Verteilung und die Peaks bei den jeweiligen Personalstärken deuten auf ein kontrolliertes, geplantes System hin, in dem eine festgelegte Anzahl von Fahrern pro Tag im Dienst ist. Es zeigt kaum Varianz, da die Personalstärke für Notrufe festgelegt und stabil bleibt.\n",
    "## 4. Anzahl_Ersatzfahrer_Bereitschaft\n",
    "- **Verteilung:** Diese Variable ist konstant bei 90, was im Diagramm als eine einzige Säule dargestellt wird.\n",
    "- **Interpretation:** Da die Anzahl der Ersatzfahrer in Bereitschaft konstant ist, gibt es hier keine Varianz. Dies unterstützt die Annahme, dass derzeit eine statische Planung verwendet wird, die unabhängig von tages- oder saisonalen Schwankungen ist.\n",
    "## 5. Ersatzfahrer_aktiviert\n",
    "- **Verteilung:** Die meisten Werte liegen im unteren Bereich, wobei die Mehrzahl der Tage nahe bei 0 Ersatzfahrern liegt, die tatsächlich aktiviert werden. Es gibt jedoch eine deutliche Schiefe nach rechts mit Ausreißern bis zu über 500.\n",
    "- **Dichtekurve:** Die Verteilung weist darauf hin, dass die Ersatzfahrer nur gelegentlich in größerer Anzahl aktiviert werden. Dies deutet auf eine hohe Varianz in der Notwendigkeit für Ersatzfahrer hin, abhängig von der Tageszeit, dem Notrufvolumen und möglicherweise anderen Faktoren.\n",
    "## 6. Zusätzliche_Fahrer_erforderlich\n",
    "- **Verteilung:** Diese Variable zeigt ebenfalls eine starke Schiefe nach rechts. Die meisten Werte sind nahe bei 0, aber es gibt einige Tage, an denen über 400 zusätzliche Fahrer erforderlich waren.\n",
    "- **Dichtekurve:** Diese Verteilung weist auf kritische Tage hin, an denen die festgelegte Anzahl der Ersatzfahrer nicht ausgereicht hat und zusätzliche Fahrer benötigt wurden. Diese hohen Spitzen könnten durch unerwartete Ereignisse oder saisonale Schwankungen verursacht werden, die mehr Personal erforderlich machen."
   ],
   "id": "346a19758c68923f"
  },
  {
   "metadata": {
    "ExecuteTime": {
     "end_time": "2024-10-31T08:08:53.083261Z",
     "start_time": "2024-10-31T08:08:53.083261Z"
    }
   },
   "cell_type": "code",
   "source": [
    "# Erstellen von Boxplots für alle numerischen Spalten in einem 3x2-Layout\n",
    "fig, axes = plt.subplots(2, 3, figsize=(18, 10))\n",
    "fig.suptitle('Boxplots der numerischen Variablen')\n",
    "\n",
    "# Durch die numerischen Spalten iterieren und Boxplots erstellen\n",
    "numeric_columns = ['Anzahl_Krankenstand', 'Anzahl_Notrufe', 'Anzahl_im_Dienst', \n",
    "                   'Anzahl_Ersatzfahrer_Bereitschaft', 'Ersatzfahrer_aktiviert', \n",
    "                   'Zusätzliche_Fahrer_erforderlich']\n",
    "\n",
    "for i, column in enumerate(numeric_columns):\n",
    "    row = i // 3\n",
    "    col = i % 3\n",
    "    sns.boxplot(data=df, y=column, ax=axes[row, col])\n",
    "    axes[row, col].set_title(f'Boxplot der {column}')\n",
    "\n",
    "plt.tight_layout(rect=[0, 0.03, 1, 0.95])\n",
    "plt.show()"
   ],
   "id": "97ee286180970fa",
   "outputs": [],
   "execution_count": null
  },
  {
   "metadata": {},
   "cell_type": "markdown",
   "source": [
    "## Anzahl_Krankenstand:\n",
    "- Die Boxplot zeigt einige Ausreißer über 90, was auf Tage mit ungewöhnlich hohen Krankenständen hinweist.\n",
    "- Der Interquartilsabstand (IQR) ist relativ breit, was auf eine gewisse Variabilität bei den Krankenständen hindeutet. Die meisten Werte liegen zwischen etwa 60 und 80.\n",
    "- \n",
    "## Anzahl_Notrufe:\n",
    "- Die meisten Notrufwerte liegen zwischen etwa 7000 und 9000, was durch den IQR bestätigt wird.\n",
    "- Es gibt Ausreißer am oberen Ende (über 11.000) und einen kleinen am unteren Ende, was auf gelegentliche Spitzen und Tiefen in der Notrufanzahl hinweist.\n",
    "- \n",
    "## Anzahl_im_Dienst:\n",
    "- Der Boxplot zeigt eine klare Gruppierung der Werte bei 1700, 1800 und 1900, ohne Ausreißer. Dies deutet auf eine geplante und stabilisierte Anzahl an Dienstfahrern hin.\n",
    "\n",
    "## Anzahl_Ersatzfahrer_Bereitschaft:\n",
    "- Der Boxplot ist eine Linie, was darauf hinweist, dass dieser Wert konstant bei 90 liegt. Es gibt hier keinerlei Variabilität, was die starren Planungsprozesse widerspiegelt.\n",
    "\n",
    "## Ersatzfahrer_aktiviert:\n",
    "- Die Verteilung ist stark rechtsschief mit zahlreichen Ausreißern, die über 100 aktivierte Fahrer hinausgehen und in Extremfällen sogar über 500.\n",
    "- Die meisten Tage benötigen keine oder nur wenige aktivierte Ersatzfahrer, aber es gibt gelegentliche Tage mit einem sehr hohen Bedarf.\n",
    "- \n",
    "## Zusätzliche_Fahrer_erforderlich:\n",
    "- Ähnlich wie bei den „Ersatzfahrer_aktiviert“ zeigt der Boxplot zahlreiche Ausreißer, was auf Tage hinweist, an denen die Anzahl der zusätzlichen Fahrer signifikant über dem Durchschnitt liegt.\n",
    "- Die Werte konzentrieren sich im unteren Bereich, mit gelegentlichen extremen Anforderungen, was möglicherweise auf unvorhersehbare Notfälle oder saisonale Schwankungen hindeutet."
   ],
   "id": "5dce15076bdd3dae"
  },
  {
   "metadata": {},
   "cell_type": "markdown",
   "source": "# 4. Saisonale Trends",
   "id": "8ebbfbd4a50e041b"
  },
  {
   "metadata": {},
   "cell_type": "code",
   "source": [
    "# Monat und Wochentag aus der Datum-Spalte extrahieren\n",
    "df['Monat'] = df['Datum'].dt.month\n",
    "df['Wochentag'] = df['Datum'].dt.dayofweek  # Montag=0, Sonntag=6\n",
    "\n",
    "# 1. Monatliche Trends analysieren\n",
    "monthly_trends = df.groupby('Monat').mean()\n",
    "\n",
    "# Erstellen von Liniendiagrammen für monatliche Trends\n",
    "fig, axes = plt.subplots(2, 2, figsize=(14, 10))\n",
    "fig.suptitle('Monatliche Trends der wichtigsten Variablen')\n",
    "\n",
    "variables = ['Anzahl_Krankenstand', 'Anzahl_Notrufe', 'Ersatzfahrer_aktiviert', 'Zusätzliche_Fahrer_erforderlich']\n",
    "for i, var in enumerate(variables):\n",
    "    row = i // 2\n",
    "    col = i % 2\n",
    "    axes[row, col].plot(monthly_trends.index, monthly_trends[var], marker='o')\n",
    "    axes[row, col].set_title(f'Monatlicher Trend von {var}')\n",
    "    axes[row, col].set_xlabel('Monat')\n",
    "    axes[row, col].set_ylabel(var)\n",
    "\n",
    "plt.tight_layout(rect=[0, 0.03, 1, 0.95])\n",
    "plt.show()"
   ],
   "id": "be3ee53c801705fc",
   "outputs": [],
   "execution_count": null
  },
  {
   "metadata": {},
   "cell_type": "markdown",
   "source": [
    "## 1. Anzahl_Krankenstand\n",
    "- **Beobachtungen:** Die Krankenstände zeigen im September und Oktober deutliche Spitzen. Es könnte sein, dass zu dieser Zeit saisonale Krankheiten oder Urlaubsengpässe zu vermehrten Ausfällen führen.\n",
    "- **Deutung:** Dieser Anstieg im Spätsommer könnte auf Faktoren wie Urlaubssaison oder saisonale Krankheiten zurückzuführen sein. Eine Erhöhung der Bereitschaft in diesen Monaten könnte sinnvoll sein.\n",
    "## 2. Anzahl_Notrufe\n",
    "- **Beobachtungen:** Die Notrufzahlen steigen vom Frühling bis in den Sommer hinein an und erreichen im Mai und Juni ihren Höhepunkt. Ab August nehmen die Notrufe wieder kontinuierlich ab und sind im Dezember am niedrigsten.\n",
    "- **Deutung:** Die höheren Notrufzahlen im Sommer könnten auf verschiedene Faktoren zurückzuführen sein, wie etwa mehr Aktivität im Freien, höhere Unfallgefahr oder Hitzeperioden. Das Notrufvolumen sinkt jedoch im Winter, was möglicherweise auf weniger Outdoor-Aktivitäten und mehr Ruhephasen zurückzuführen ist.\n",
    "## 3. Ersatzfahrer_aktiviert\n",
    "- **Beobachtungen:** Der Bedarf an aktivierten Ersatzfahrern folgt einem ähnlichen Muster wie die Notrufe und erreicht von Mai bis August den Höhepunkt, bevor er im Herbst und Winter abnimmt.\n",
    "- **Deutung:** Die Korrelation mit den Notrufzahlen zeigt, dass ein höheres Notrufaufkommen zu einem größeren Bedarf an Ersatzfahrern führt. Daher wäre eine dynamische Planung, die den Sommer als Spitzenzeit berücksichtigt, sinnvoll.\n",
    "## 4. Zusätzliche_Fahrer_erforderlich\n",
    "- **Beobachtungen:** Die Anzahl der zusätzlichen Fahrer zeigt ein sehr ähnliches Muster wie die aktivierten Ersatzfahrer, mit einem klaren Höhepunkt im Frühjahr und Sommer und einer starken Abnahme im Herbst und Winter.\n",
    "- **Deutung:** Diese Parallelen zu den Notruf- und Ersatzfahrertrends bestätigen, dass in der Sommerzeit (April bis August) verstärkt zusätzliche Ressourcen benötigt werden. Die Werte fallen im Herbst und Winter deutlich ab, was zeigt, dass in diesen Zeiten die geplante Kapazität oft ausreicht."
   ],
   "id": "3ae74edc89214643"
  },
  {
   "metadata": {},
   "cell_type": "code",
   "source": [
    "# Wochentags-Trends analysieren\n",
    "weekly_trends = df.groupby('Wochentag').mean()\n",
    "\n",
    "# Normalisieren der Wochentagstrends (alle Werte zwischen 0 und 1 skalieren)\n",
    "weekly_trends_normalized = weekly_trends.copy()\n",
    "for column in weekly_trends.columns:\n",
    "    weekly_trends_normalized[column] = (weekly_trends[column] - weekly_trends[column].min()) / (weekly_trends[column].max() - weekly_trends[column].min())\n",
    "\n",
    "# Plot der normalisierten Durchschnittswerte pro Wochentag\n",
    "fig, ax = plt.subplots(figsize=(10, 6))\n",
    "for var in variables:\n",
    "    ax.plot(weekly_trends_normalized.index, weekly_trends_normalized[var], marker='o', label=var)\n",
    "\n",
    "ax.set_title('Normalisierte Durchschnittswerte pro Wochentag')\n",
    "ax.set_xlabel('Wochentag (0=Montag, 6=Sonntag)')\n",
    "ax.set_ylabel('Normalisierte Durchschnittswerte (0-1)')\n",
    "ax.legend()\n",
    "plt.show()"
   ],
   "id": "ce141779dc94c27a",
   "outputs": [],
   "execution_count": null
  },
  {
   "metadata": {},
   "cell_type": "markdown",
   "source": [
    "## 1. Anzahl_Krankenstand (blau)\n",
    "- **Trend:** Die Krankenstände sind am Montag am höchsten und nehmen bis Donnerstag stetig ab, bevor sie am Freitag noch einmal ansteigen und am Wochenende (Samstag und Sonntag) einen Tiefpunkt erreichen.\n",
    "- **Deutung:** Dies könnte darauf hindeuten, dass sich mehr Personen nach dem Wochenende krankmelden und die Zahl der Krankenstände im Laufe der Woche sinkt. Das Wochenende ist möglicherweise weniger belastend, was die Krankenstände niedrig hält.\n",
    "## 2. Anzahl_Notrufe (orange)\n",
    "- **Trend:** Die Notrufzahlen sind am Montag am höchsten und nehmen im Laufe der Woche kontinuierlich ab, wobei der niedrigste Wert am Sonntag erreicht wird.\n",
    "- **Deutung:** Die höheren Notrufzahlen zu Beginn der Woche könnten auf eine erhöhte Aktivität und Anforderungen zu Wochenbeginn hinweisen, möglicherweise bedingt durch Arbeits- oder Verkehrsunfälle. Das geringere Notrufaufkommen am Wochenende könnte auf weniger Verkehr und Aktivitäten zurückzuführen sein.\n",
    "## 3. Ersatzfahrer_aktiviert (grün)\n",
    "- **Trend:** Der Bedarf an aktivierten Ersatzfahrern folgt grob dem Muster der Notrufe, mit einem Höchststand am Montag und einem stetigen Rückgang bis Sonntag.\n",
    "- **Deutung:** Da die Ersatzfahrer bei Engpässen aktiviert werden, spiegelt der Trend den Verlauf der Notrufe wider. An Tagen mit höherem Notrufaufkommen wird auch mehr zusätzliches Personal benötigt.\n",
    "## 4. Zusätzliche_Fahrer_erforderlich (rot)\n",
    "- **Trend:** Ähnlich wie die aktivierten Ersatzfahrer zeigt auch diese Variable den höchsten Wert am Montag und den niedrigsten am Sonntag, wobei sie im Laufe der Woche stetig abnimmt.\n",
    "- **Deutung:** Dieser Trend deutet darauf hin, dass zu Wochenbeginn häufiger zusätzliche Fahrer benötigt werden, um die Nachfrage zu decken, während zum Wochenende hin der Bedarf abnimmt."
   ],
   "id": "d6965705b780d1cc"
  },
  {
   "metadata": {},
   "cell_type": "markdown",
   "source": "# 5. Korrelation",
   "id": "81087e851568f015"
  },
  {
   "metadata": {},
   "cell_type": "code",
   "source": [
    "# Berechnen der Korrelationsmatrix\n",
    "correlation_matrix = df[numeric_columns].corr()\n",
    "\n",
    "# Visualisieren der Korrelationsmatrix als Heatmap\n",
    "plt.figure(figsize=(10, 8))\n",
    "sns.heatmap(correlation_matrix, annot=True, cmap=\"coolwarm\", vmin=-1, vmax=1)\n",
    "plt.title(\"Korrelationsmatrix der numerischen Variablen\")\n",
    "plt.show()"
   ],
   "id": "8da6f3ab20ce2921",
   "outputs": [],
   "execution_count": null
  },
  {
   "metadata": {},
   "cell_type": "markdown",
   "source": "",
   "id": "1ae6c13d258e6ab3"
  },
  {
   "metadata": {},
   "cell_type": "markdown",
   "source": [
    "## 1. Hohe Korrelation zwischen Ersatzfahrer_aktiviert und Zusätzliche_Fahrer_erforderlich (0.95)\n",
    "- Diese beiden Variablen sind stark korreliert, was darauf hindeutet, dass an Tagen, an denen viele Ersatzfahrer aktiviert werden, auch häufig zusätzliche Fahrer benötigt werden.\n",
    "- **Deutung:** Dies zeigt, dass der Bedarf an zusätzlichen Fahrern eng mit der Aktivierung der Bereitschaftsfahrer verbunden ist. In der Praxis bedeutet dies, dass an Tagen mit höherem Notrufvolumen oder größeren Engpässen zusätzliche Fahrer häufig aktiviert werden müssen, wenn die normalen Ersatzkapazitäten nicht ausreichen.\n",
    "## 2. Korrelation zwischen Anzahl_Notrufe und Ersatzfahrer_aktiviert (0.68)\n",
    "- Es besteht eine moderate Korrelation zwischen der Anzahl der Notrufe und der Anzahl der aktivierten Ersatzfahrer.\n",
    "- **Deutung:** Dies weist darauf hin, dass höhere Notrufzahlen tendenziell zu einem größeren Bedarf an Ersatzfahrern führen. Eine steigende Notrufanzahl erhöht also die Wahrscheinlichkeit, dass zusätzliche Ressourcen aktiviert werden müssen.\n",
    "## 3. Korrelation zwischen Anzahl_Notrufe und Zusätzliche_Fahrer_erforderlich (0.56)\n",
    "- Die Anzahl der Notrufe zeigt auch eine moderate Korrelation mit der Anzahl der zusätzlichen Fahrer, die erforderlich sind.\n",
    "- **Deutung:** Diese Korrelation deutet darauf hin, dass bei höherem Notrufvolumen nicht nur die Ersatzfahrer aktiviert werden, sondern in vielen Fällen auch zusätzliche Fahrer erforderlich sind. Dies spricht für ein zunehmendes Personalbedarfsproblem bei steigender Notrufzahl.\n",
    "## 4. Korrelation zwischen Anzahl_Krankenstand und Anzahl_im_Dienst (0.46)\n",
    "- Eine moderate Korrelation zwischen der Anzahl der Krankenstände und der Anzahl der Fahrer im Dienst zeigt, dass mehr Krankenstände im Durchschnitt mit einer höheren Zahl im Dienst befindlicher Fahrer einhergehen.\n",
    "- **Deutung:** Dies könnte darauf hindeuten, dass bei erhöhtem Krankenstand die reguläre Dienstbesetzung angepasst wird, um Ausfälle zu kompensieren.\n",
    "## 5. Geringe bis keine Korrelation mit Anzahl_Ersatzfahrer_Bereitschaft\n",
    "- Die Anzahl_Ersatzfahrer_Bereitschaft ist konstant bei 90, weshalb sie keine Korrelationen mit anderen Variablen zeigt. Diese Zahl wird unabhängig von anderen Faktoren festgelegt.\n",
    "- **Deutung:** Dies unterstützt die Beobachtung, dass die Anzahl der Bereitschaftsfahrer in der aktuellen Planung starr und unabhängig von saisonalen oder täglichen Schwankungen ist."
   ],
   "id": "904c6347a543fc1c"
  },
  {
   "metadata": {},
   "cell_type": "markdown",
   "source": "# Zeitreihenanalyse mit gleitenden Durchschnitt",
   "id": "3180d203605b9909"
  },
  {
   "metadata": {},
   "cell_type": "code",
   "source": [
    "# Sicherstellen, dass das Datum als Index gesetzt ist und sortiert\n",
    "df = df.set_index('Datum').sort_index()\n",
    "\n",
    "# Berechnen von 7-Tage- und 30-Tage-Gleitenden Durchschnitten\n",
    "df['Notrufe_7d_MA'] = df['Anzahl_Notrufe'].rolling(window=7).mean()\n",
    "df['Notrufe_30d_MA'] = df['Anzahl_Notrufe'].rolling(window=30).mean()\n",
    "df['Krankenstand_7d_MA'] = df['Anzahl_Krankenstand'].rolling(window=7).mean()\n",
    "df['Krankenstand_30d_MA'] = df['Anzahl_Krankenstand'].rolling(window=30).mean()\n",
    "\n",
    "# Plot der Originalwerte und Gleitenden Durchschnitte für Anzahl_Notrufe\n",
    "plt.figure(figsize=(14, 6))\n",
    "plt.plot(df.index, df['Anzahl_Notrufe'], label='Anzahl Notrufe', color='blue', alpha=0.5)\n",
    "plt.plot(df.index, df['Notrufe_7d_MA'], label='7-Tage-Gleitender Durchschnitt', color='orange')\n",
    "plt.plot(df.index, df['Notrufe_30d_MA'], label='30-Tage-Gleitender Durchschnitt', color='red')\n",
    "plt.title('Zeitreihenanalyse der Anzahl Notrufe')\n",
    "plt.xlabel('Datum')\n",
    "plt.ylabel('Anzahl Notrufe')\n",
    "plt.legend()\n",
    "plt.show()\n",
    "\n",
    "# Plot der Originalwerte und Gleitenden Durchschnitte für Anzahl_Krankenstand\n",
    "plt.figure(figsize=(14, 6))\n",
    "plt.plot(df.index, df['Anzahl_Krankenstand'], label='Anzahl Krankenstand', color='green', alpha=0.5)\n",
    "plt.plot(df.index, df['Krankenstand_7d_MA'], label='7-Tage-Gleitender Durchschnitt', color='orange')\n",
    "plt.plot(df.index, df['Krankenstand_30d_MA'], label='30-Tage-Gleitender Durchschnitt', color='red')\n",
    "plt.title('Zeitreihenanalyse der Anzahl Krankenstand')\n",
    "plt.xlabel('Datum')\n",
    "plt.ylabel('Anzahl Krankenstand')\n",
    "plt.legend()\n",
    "plt.show()"
   ],
   "id": "bc95ad00bac5e5a8",
   "outputs": [],
   "execution_count": null
  },
  {
   "metadata": {},
   "cell_type": "markdown",
   "source": [
    "## 1. Anzahl Notrufe\n",
    "- **Kurzfristige Schwankungen:** Die blaue Linie (tägliche Notrufzahlen) zeigt deutliche tägliche Schwankungen, die auf zufällige oder tageszeitliche Ereignisse hindeuten. Es gibt regelmäßige Spitzen, die kurzfristige Schwankungen widerspiegeln.\n",
    "- **7-Tage-Gleitender Durchschnitt (orange):** Der 7-Tage-Durchschnitt glättet diese täglichen Schwankungen und gibt einen besseren Überblick über die wöchentliche Variabilität. Hier sind kleinere Spitzen und Täler sichtbar, die möglicherweise auf wöchentliche Muster hindeuten.\n",
    "- **30-Tage-Gleitender Durchschnitt (rot):** Der 30-Tage-Durchschnitt zeigt die längerfristigen Trends. Wir erkennen hier deutliche saisonale Schwankungen:\n",
    "    - Im Sommer und Frühherbst steigen die Notrufzahlen regelmäßig an, was vermutlich auf mehr Aktivität im Freien und damit verbundenen Unfällen hinweist.\n",
    "    - Die Notrufzahlen sinken tendenziell im Spätwinter und zu Jahresbeginn, was weniger Aktivität im Freien und möglicherweise weniger Unfallgeschehen widerspiegeln könnte.\n",
    "## 2. Anzahl Krankenstand\n",
    "- **Kurzfristige Schwankungen:** Die grüne Linie zeigt die täglichen Krankenstände, die auch deutliche Schwankungen aufweisen. Spitzenwerte und Einbrüche deuten darauf hin, dass sich die Krankenstände möglicherweise kurzfristig ändern, z. B. durch saisonale Krankheiten.\n",
    "- **7-Tage-Gleitender Durchschnitt (orange):** Der 7-Tage-Durchschnitt glättet die täglichen Schwankungen und zeigt kleinere Zyklen, die eventuell auf wöchentliche Effekte hinweisen.\n",
    "- **30-Tage-Gleitender Durchschnitt (rot):** Der 30-Tage-Durchschnitt verdeutlicht saisonale Muster, insbesondere:\n",
    "    - Ein starker Anstieg der Krankenstände in den Herbst- und Wintermonaten, vermutlich verursacht durch saisonale Erkrankungen wie Grippe.\n",
    "    - Im Frühling und Sommer sinkt der Krankenstand, was auf weniger saisonale Erkrankungen in dieser Zeit hinweist."
   ],
   "id": "2a186b1c7186cd1b"
  },
  {
   "metadata": {},
   "cell_type": "markdown",
   "source": "# Autokorrelation von Variablen",
   "id": "602624ad6a37ae25"
  },
  {
   "metadata": {},
   "cell_type": "code",
   "source": [
    "# Liste der Variablen, die analysiert werden sollen\n",
    "variables_to_analyze = ['Anzahl_Notrufe', 'Anzahl_Krankenstand', 'Ersatzfahrer_aktiviert', 'Zusätzliche_Fahrer_erforderlich']\n",
    "\n",
    "# Autokorrelationsplots für ausgewählte Variablen\n",
    "for var in variables_to_analyze:\n",
    "    plt.figure(figsize=(10, 4))\n",
    "    autocorrelation_plot(df[var])\n",
    "    plt.title(f'Autokorrelationsplot für {var}')\n",
    "    plt.xlabel('Lag (Tage)')\n",
    "    plt.ylabel('Autokorrelation')\n",
    "    plt.show()\n"
   ],
   "id": "fb987cfa3541fab4",
   "outputs": [],
   "execution_count": null
  },
  {
   "metadata": {},
   "cell_type": "markdown",
   "source": [
    "## 1. Anzahl_Notrufe\n",
    "- **Beobachtungen:** Zu Beginn (Lags von 1 bis etwa 50 Tage) ist eine moderate Autokorrelation vorhanden, die dann relativ schnell abnimmt. Nach ungefähr 100 Lags bleibt die Autokorrelation nahe Null.\n",
    "- **Interpretation:** Dies deutet darauf hin, dass die Anzahl der Notrufe in gewissem Maße durch den vorangegangenen Tag oder wenige Tage zuvor beeinflusst wird. Ein stark saisonaler oder wöchentlicher Zyklus ist jedoch nicht klar erkennbar, da die Autokorrelation schnell abnimmt. Es könnten kurzfristige Trends oder zufällige Schwankungen vorliegen, die nur über kurze Zeiträume bestehen.\n",
    "## 2. Anzahl_Krankenstand\n",
    "- **Beobachtungen:** Auch hier gibt es eine moderate Anfangskorrelation, die relativ schnell abnimmt. Danach schwankt die Autokorrelation um Null, mit gelegentlichen Ausschlägen, aber ohne starke Periodizität.\n",
    "- **Interpretation:** Die Krankenstände zeigen ebenfalls eine gewisse kurzfristige Korrelation, was auf einen Einfluss der Krankenstände in den unmittelbar vorherigen Tagen hinweist. Diese Autokorrelation könnte auf Faktoren wie ansteckende Krankheiten hinweisen, die kurzfristige Effekte verursachen. Langfristige oder saisonale Muster scheinen jedoch nicht stark ausgeprägt zu sein.\n",
    "## 3. Ersatzfahrer_aktiviert\n",
    "- **Beobachtungen:** Die Autokorrelation ist am Anfang recht niedrig und bleibt stabil nahe Null über alle Lags hinweg.\n",
    "- **Interpretation:** Die Anzahl der aktivierten Ersatzfahrer scheint keine zeitliche Abhängigkeit von vorhergehenden Tagen aufzuweisen. Dies könnte bedeuten, dass der Bedarf an aktivierten Ersatzfahrern eher durch tagesaktuelle Ereignisse oder Schwankungen bestimmt wird und nicht durch einen konstanten Trend oder zyklische Muster.\n",
    "## 4. Zusätzliche_Fahrer_erforderlich\n",
    "- **Beobachtungen:** Ähnlich wie bei Ersatzfahrer_aktiviert bleibt die Autokorrelation in allen Lags nahe Null, was darauf hindeutet, dass keine starke zeitliche Abhängigkeit besteht.\n",
    "- **Interpretation:** Die benötigten zusätzlichen Fahrer sind vermutlich ebenfalls stark von tagesaktuellen Faktoren abhängig und zeigen keine klare Abhängigkeit zu den Werten der Vortage. Die geringe Autokorrelation deutet darauf hin, dass unvorhersehbare Ereignisse oder kurzfristige Engpässe zu einem variierenden Bedarf führen."
   ],
   "id": "c9f9ef21efff78ac"
  },
  {
   "metadata": {},
   "cell_type": "code",
   "source": [
    "# Liste der Variablen, die analysiert werden sollen\n",
    "variables_to_analyze = ['Anzahl_Notrufe', 'Anzahl_Krankenstand', 'Ersatzfahrer_aktiviert', 'Zusätzliche_Fahrer_erforderlich']\n",
    "\n",
    "# Autokorrelationsplots für ausgewählte Variablen nur für 7-Tage-Schritte\n",
    "for var in variables_to_analyze:\n",
    "    plt.figure(figsize=(10, 4))\n",
    "    \n",
    "    # Berechne Autokorrelationen nur für Lags im 7-Tage-Schritt\n",
    "    lags = [7 * i for i in range(1, 20)]  # 7, 14, 21, ..., 133 Tage\n",
    "    autocorrelations = [df[var].autocorr(lag=lag) for lag in lags]\n",
    "    \n",
    "    # Plot\n",
    "    plt.stem(lags, autocorrelations)\n",
    "    plt.title(f'Autokorrelationsplot für {var} (7-Tage-Schritte)')\n",
    "    plt.xlabel('Lag (Tage)')\n",
    "    plt.ylabel('Autokorrelation')\n",
    "    plt.show()\n"
   ],
   "id": "ab06c62cf1ae03b3",
   "outputs": [],
   "execution_count": null
  },
  {
   "metadata": {},
   "cell_type": "markdown",
   "source": [
    "# 1. Anzahl_Notrufe\n",
    "- **Beobachtungen:** Die Autokorrelation ist bei den ersten Lags (7, 14, 21 Tage) relativ stark, wobei die Korrelation mit zunehmendem Lag abnimmt. Auch bei einem Lag von 7 Tagen ist die Autokorrelation über 0.4, was auf eine wöchentliche Zyklizität hinweist.\n",
    "- **Interpretation:** Die Anzahl der Notrufe zeigt eine deutliche wöchentliche Wiederholung. Dies deutet darauf hin, dass bestimmte Tage der Woche durchgängig höhere oder niedrigere Notrufzahlen aufweisen. Diese wöchentliche Schwankung könnte für die Einsatzplanung wichtig sein, um Spitzen besser vorherzusagen.\n",
    "# 2. Anzahl_Krankenstand\n",
    "- **Beobachtungen:** Die Autokorrelation ist bei einem Lag von 7 Tagen am höchsten (über 0.6) und nimmt bei höheren Lags (14, 21, 28 Tage usw.) kontinuierlich ab, bleibt jedoch bis zu etwa 70 Tagen teilweise relevant.\n",
    "- **Interpretation:** Auch die Krankenstände zeigen eine deutliche wöchentliche Wiederholung, was möglicherweise mit festgelegten Arbeitszeiten und typischen Erholungsphasen der Einsatzkräfte zusammenhängt. Ein wöchentlicher Trend könnte auch durch saisonale Krankheitsmuster beeinflusst sein.\n",
    "# 3. Ersatzfahrer_aktiviert\n",
    "- **Beobachtungen:** Die Autokorrelation ist hier insgesamt schwächer, zeigt aber bei 7 und 14 Tagen kleine positive Werte und einige schwächere negative Werte bei längeren Lags.\n",
    "- **Interpretation:** Die Anzahl der aktivierten Ersatzfahrer weist keine starke wöchentliche Struktur auf. Die Schwankungen könnten durch kurzfristige und tagesabhängige Faktoren bestimmt sein, was eine dynamische und tagesgenaue Planung nahelegt.\n",
    "# 4. Zusätzliche_Fahrer_erforderlich\n",
    "- **Beobachtungen:** Die Autokorrelation ist hier insgesamt schwach, mit niedrigen positiven Werten bei 7 und 14 Tagen und einigen negativen Werten bei höheren Lags.\n",
    "- **Interpretation:** Auch die zusätzlichen benötigten Fahrer zeigen keine starke wöchentliche oder zyklische Abhängigkeit. Dies könnte darauf hindeuten, dass der Bedarf an zusätzlichen Fahrern unregelmäßig ist und eher auf tagesaktuellen Notwendigkeiten basiert."
   ],
   "id": "44b899b0b94fca3a"
  },
  {
   "metadata": {},
   "cell_type": "code",
   "source": [
    "# Liste der Variablen, die analysiert werden sollen\n",
    "variables_to_analyze = ['Anzahl_Notrufe', 'Anzahl_Krankenstand', 'Ersatzfahrer_aktiviert', 'Zusätzliche_Fahrer_erforderlich']\n",
    "\n",
    "# Autokorrelationsplots für ausgewählte Variablen nur für 30-Tage-Schritte\n",
    "for var in variables_to_analyze:\n",
    "    plt.figure(figsize=(10, 4))\n",
    "    \n",
    "    # Berechne Autokorrelationen nur für Lags im 30-Tage-Schritt\n",
    "    lags = [30 * i for i in range(1, 13)]  # 30, 60, 90, ..., 360 Tage\n",
    "    autocorrelations = [df[var].autocorr(lag=lag) for lag in lags]\n",
    "    \n",
    "    # Plot als Stabdiagramm ohne `use_line_collection`\n",
    "    plt.stem(lags, autocorrelations)\n",
    "    plt.title(f'Autokorrelationsplot für {var} (30-Tage-Schritte)')\n",
    "    plt.xlabel('Lag (Tage)')\n",
    "    plt.ylabel('Autokorrelation')\n",
    "    plt.show()"
   ],
   "id": "24466ad32408f37c",
   "outputs": [],
   "execution_count": null
  },
  {
   "metadata": {},
   "cell_type": "markdown",
   "source": [
    "# 1. Anzahl_Notrufe\n",
    "- **Beobachtungen:** Die Autokorrelation ist bei den ersten 30 Tagen am höchsten (über 0.35) und nimmt danach relativ schnell ab. Es gibt jedoch auch leicht positive Werte bei Lags von etwa 300 und 360 Tagen, die auf jährliche Wiederholungen hinweisen könnten.\n",
    "- **Interpretation:** Die Anzahl der Notrufe zeigt eine gewisse monatliche und möglicherweise auch jährliche Saisonalität. Die wiederholte Autokorrelation in längeren Intervallen deutet darauf hin, dass Notrufspitzen zu bestimmten Jahreszeiten häufiger auftreten.\n",
    "# 2. Anzahl_Krankenstand\n",
    "- **Beobachtungen:** Ähnlich wie bei den Notrufen zeigt die Krankenstand-Variable eine hohe Autokorrelation bei 30 Tagen (über 0.4) und abnehmende Werte bei den weiteren Lags. Bei Lags von 300 und 360 Tagen zeigt sich ebenfalls eine erhöhte Korrelation.\n",
    "- **Interpretation:** Auch hier ist eine monatliche Saisonalität erkennbar, die möglicherweise auf einen Zusammenhang mit wiederkehrenden Krankheiten (z. B. Grippewellen) hinweist. Die jährliche Komponente könnte ebenfalls eine Rolle spielen, da saisonale Erkrankungen in bestimmten Monaten gehäuft auftreten.\n",
    "# 3. Ersatzfahrer_aktiviert\n",
    "- **Beobachtungen:** Die Autokorrelation bei einem Lag von 30 Tagen ist hier relativ niedrig (etwa 0.2) und nimmt bei längeren Lags weiter ab. Es gibt leichte positive Korrelationen bei 300 und 360 Tagen, jedoch sind diese viel schwächer als bei den Notrufen und Krankenständen.\n",
    "- **Interpretation:** Die schwachen Korrelationen deuten darauf hin, dass der Bedarf an aktivierten Ersatzfahrern nicht stark von monatlichen oder jährlichen Trends beeinflusst wird. Möglicherweise hängen die täglichen Einsätze eher von aktuellen Notwendigkeiten und weniger von saisonalen Schwankungen ab.\n",
    "# 4. Zusätzliche_Fahrer_erforderlich\n",
    "- **Beobachtungen:** Auch hier zeigt sich eine geringe Autokorrelation bei 30 Tagen (etwa 0.2) mit noch schwächeren Werten bei weiteren Lags. Die Lags von 300 und 360 Tagen zeigen nur eine sehr leichte positive Korrelation.\n",
    "- **Interpretation:** Ähnlich wie bei den aktivierten Ersatzfahrern gibt es keine signifikanten monatlichen oder jährlichen Trends in der Anzahl der zusätzlichen Fahrer. Dies deutet darauf hin, dass diese Variable tendenziell weniger von saisonalen Mustern beeinflusst wird und eher tagesaktuelle Entscheidungen widerspiegelt."
   ],
   "id": "58bc83462a6a4fe4"
  },
  {
   "metadata": {},
   "cell_type": "code",
   "source": "",
   "id": "a56eda2a79f30706",
   "outputs": [],
   "execution_count": null
  },
  {
   "metadata": {},
   "cell_type": "code",
   "source": "",
   "id": "1408a80c1a4c6f64",
   "outputs": [],
   "execution_count": null
  },
  {
   "metadata": {},
   "cell_type": "code",
   "source": "",
   "id": "2ff59f5915d1d50e",
   "outputs": [],
   "execution_count": null
  },
  {
   "metadata": {},
   "cell_type": "code",
   "source": "",
   "id": "489e9c3e40a29d13",
   "outputs": [],
   "execution_count": null
  }
 ],
 "metadata": {
  "kernelspec": {
   "display_name": "Python 3",
   "language": "python",
   "name": "python3"
  },
  "language_info": {
   "codemirror_mode": {
    "name": "ipython",
    "version": 2
   },
   "file_extension": ".py",
   "mimetype": "text/x-python",
   "name": "python",
   "nbconvert_exporter": "python",
   "pygments_lexer": "ipython2",
   "version": "2.7.6"
  }
 },
 "nbformat": 4,
 "nbformat_minor": 5
}
